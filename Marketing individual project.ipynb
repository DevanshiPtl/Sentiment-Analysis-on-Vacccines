{
 "cells": [
  {
   "cell_type": "code",
   "execution_count": 7,
   "metadata": {},
   "outputs": [
    {
     "name": "stderr",
     "output_type": "stream",
     "text": [
      "[nltk_data] Downloading package stopwords to\n",
      "[nltk_data]     C:\\Users\\shree\\AppData\\Roaming\\nltk_data...\n",
      "[nltk_data]   Package stopwords is already up-to-date!\n"
     ]
    }
   ],
   "source": [
    "import re\n",
    "import numpy as np\n",
    "import pandas as pd\n",
    "from sklearn.model_selection import train_test_split\n",
    "import tensorflow as tf\n",
    "from keras.preprocessing.text import Tokenizer\n",
    "from keras.preprocessing.sequence import pad_sequences\n",
    "import seaborn as sns\n",
    "import matplotlib.pyplot as plt\n",
    "import nltk # library to perform NLP\n",
    "nltk.download('stopwords') # tool to remove the non-essential words. It is a list of words\n",
    "from nltk.corpus import stopwords\n",
    "from nltk.stem.porter import PorterStemmer\n",
    "from textblob import TextBlob\n",
    "from wordcloud import WordCloud\n",
    "import warnings\n",
    "warnings.filterwarnings('ignore')\n",
    "warnings.simplefilter(action='ignore', category=FutureWarning)\n",
    "import matplotlib.pyplot as plt \n",
    "import tensorflow as tf\n",
    "import keras"
   ]
  },
  {
   "cell_type": "code",
   "execution_count": 8,
   "metadata": {},
   "outputs": [],
   "source": [
    "#! pip install tensorflow\n"
   ]
  },
  {
   "cell_type": "code",
   "execution_count": 9,
   "metadata": {},
   "outputs": [],
   "source": [
    "#! pip install textblob"
   ]
  },
  {
   "cell_type": "code",
   "execution_count": 10,
   "metadata": {},
   "outputs": [],
   "source": [
    "#! pip install wordcloud"
   ]
  },
  {
   "cell_type": "code",
   "execution_count": 11,
   "metadata": {
    "scrolled": true
   },
   "outputs": [
    {
     "data": {
      "text/html": [
       "<div>\n",
       "<style scoped>\n",
       "    .dataframe tbody tr th:only-of-type {\n",
       "        vertical-align: middle;\n",
       "    }\n",
       "\n",
       "    .dataframe tbody tr th {\n",
       "        vertical-align: top;\n",
       "    }\n",
       "\n",
       "    .dataframe thead th {\n",
       "        text-align: right;\n",
       "    }\n",
       "</style>\n",
       "<table border=\"1\" class=\"dataframe\">\n",
       "  <thead>\n",
       "    <tr style=\"text-align: right;\">\n",
       "      <th></th>\n",
       "      <th>id</th>\n",
       "      <th>user_name</th>\n",
       "      <th>user_location</th>\n",
       "      <th>user_description</th>\n",
       "      <th>user_created</th>\n",
       "      <th>user_followers</th>\n",
       "      <th>user_friends</th>\n",
       "      <th>user_favourites</th>\n",
       "      <th>user_verified</th>\n",
       "      <th>date</th>\n",
       "      <th>text</th>\n",
       "      <th>hashtags</th>\n",
       "      <th>source</th>\n",
       "      <th>retweets</th>\n",
       "      <th>favorites</th>\n",
       "      <th>is_retweet</th>\n",
       "    </tr>\n",
       "  </thead>\n",
       "  <tbody>\n",
       "    <tr>\n",
       "      <th>0</th>\n",
       "      <td>1.340540e+18</td>\n",
       "      <td>Rachel Roh</td>\n",
       "      <td>La Crescenta-Montrose, CA</td>\n",
       "      <td>Aggregator of Asian American news; scanning di...</td>\n",
       "      <td>08-04-2009 17:52</td>\n",
       "      <td>405</td>\n",
       "      <td>1692</td>\n",
       "      <td>3247</td>\n",
       "      <td>False</td>\n",
       "      <td>20-12-2020 06:06</td>\n",
       "      <td>Same folks said daikon paste could treat a cyt...</td>\n",
       "      <td>['PfizerBioNTech']</td>\n",
       "      <td>Twitter for Android</td>\n",
       "      <td>0</td>\n",
       "      <td>0</td>\n",
       "      <td>False</td>\n",
       "    </tr>\n",
       "    <tr>\n",
       "      <th>1</th>\n",
       "      <td>1.338160e+18</td>\n",
       "      <td>Albert Fong</td>\n",
       "      <td>San Francisco, CA</td>\n",
       "      <td>Marketing dude, tech geek, heavy metal &amp; '80s ...</td>\n",
       "      <td>21-09-2009 15:27</td>\n",
       "      <td>834</td>\n",
       "      <td>666</td>\n",
       "      <td>178</td>\n",
       "      <td>False</td>\n",
       "      <td>13-12-2020 16:27</td>\n",
       "      <td>While the world has been on the wrong side of ...</td>\n",
       "      <td>NaN</td>\n",
       "      <td>Twitter Web App</td>\n",
       "      <td>1</td>\n",
       "      <td>1</td>\n",
       "      <td>False</td>\n",
       "    </tr>\n",
       "    <tr>\n",
       "      <th>2</th>\n",
       "      <td>1.337860e+18</td>\n",
       "      <td>eli🇱🇹🇪🇺👌</td>\n",
       "      <td>Your Bed</td>\n",
       "      <td>heil, hydra 🖐☺</td>\n",
       "      <td>25-06-2020 23:30</td>\n",
       "      <td>10</td>\n",
       "      <td>88</td>\n",
       "      <td>155</td>\n",
       "      <td>False</td>\n",
       "      <td>12-12-2020 20:33</td>\n",
       "      <td>#coronavirus #SputnikV #AstraZeneca #PfizerBio...</td>\n",
       "      <td>['coronavirus', 'SputnikV', 'AstraZeneca', 'Pf...</td>\n",
       "      <td>Twitter for Android</td>\n",
       "      <td>0</td>\n",
       "      <td>0</td>\n",
       "      <td>False</td>\n",
       "    </tr>\n",
       "    <tr>\n",
       "      <th>3</th>\n",
       "      <td>1.337860e+18</td>\n",
       "      <td>Charles Adler</td>\n",
       "      <td>Vancouver, BC - Canada</td>\n",
       "      <td>Hosting \"CharlesAdlerTonight\" Global News Radi...</td>\n",
       "      <td>10-09-2008 11:28</td>\n",
       "      <td>49165</td>\n",
       "      <td>3933</td>\n",
       "      <td>21853</td>\n",
       "      <td>True</td>\n",
       "      <td>12-12-2020 20:23</td>\n",
       "      <td>Facts are immutable, Senator, even when you're...</td>\n",
       "      <td>NaN</td>\n",
       "      <td>Twitter Web App</td>\n",
       "      <td>446</td>\n",
       "      <td>2129</td>\n",
       "      <td>False</td>\n",
       "    </tr>\n",
       "    <tr>\n",
       "      <th>4</th>\n",
       "      <td>1.337850e+18</td>\n",
       "      <td>Citizen News Channel</td>\n",
       "      <td>NaN</td>\n",
       "      <td>Citizen News Channel bringing you an alternati...</td>\n",
       "      <td>23-04-2020 17:58</td>\n",
       "      <td>152</td>\n",
       "      <td>580</td>\n",
       "      <td>1473</td>\n",
       "      <td>False</td>\n",
       "      <td>12-12-2020 20:17</td>\n",
       "      <td>Explain to me again why we need a vaccine @Bor...</td>\n",
       "      <td>['whereareallthesickpeople', 'PfizerBioNTech']</td>\n",
       "      <td>Twitter for iPhone</td>\n",
       "      <td>0</td>\n",
       "      <td>0</td>\n",
       "      <td>False</td>\n",
       "    </tr>\n",
       "  </tbody>\n",
       "</table>\n",
       "</div>"
      ],
      "text/plain": [
       "             id             user_name              user_location  \\\n",
       "0  1.340540e+18            Rachel Roh  La Crescenta-Montrose, CA   \n",
       "1  1.338160e+18           Albert Fong          San Francisco, CA   \n",
       "2  1.337860e+18              eli🇱🇹🇪🇺👌                   Your Bed   \n",
       "3  1.337860e+18         Charles Adler     Vancouver, BC - Canada   \n",
       "4  1.337850e+18  Citizen News Channel                        NaN   \n",
       "\n",
       "                                    user_description      user_created  \\\n",
       "0  Aggregator of Asian American news; scanning di...  08-04-2009 17:52   \n",
       "1  Marketing dude, tech geek, heavy metal & '80s ...  21-09-2009 15:27   \n",
       "2                                     heil, hydra 🖐☺  25-06-2020 23:30   \n",
       "3  Hosting \"CharlesAdlerTonight\" Global News Radi...  10-09-2008 11:28   \n",
       "4  Citizen News Channel bringing you an alternati...  23-04-2020 17:58   \n",
       "\n",
       "   user_followers  user_friends  user_favourites  user_verified  \\\n",
       "0             405          1692             3247          False   \n",
       "1             834           666              178          False   \n",
       "2              10            88              155          False   \n",
       "3           49165          3933            21853           True   \n",
       "4             152           580             1473          False   \n",
       "\n",
       "               date                                               text  \\\n",
       "0  20-12-2020 06:06  Same folks said daikon paste could treat a cyt...   \n",
       "1  13-12-2020 16:27  While the world has been on the wrong side of ...   \n",
       "2  12-12-2020 20:33  #coronavirus #SputnikV #AstraZeneca #PfizerBio...   \n",
       "3  12-12-2020 20:23  Facts are immutable, Senator, even when you're...   \n",
       "4  12-12-2020 20:17  Explain to me again why we need a vaccine @Bor...   \n",
       "\n",
       "                                            hashtags               source  \\\n",
       "0                                 ['PfizerBioNTech']  Twitter for Android   \n",
       "1                                                NaN      Twitter Web App   \n",
       "2  ['coronavirus', 'SputnikV', 'AstraZeneca', 'Pf...  Twitter for Android   \n",
       "3                                                NaN      Twitter Web App   \n",
       "4     ['whereareallthesickpeople', 'PfizerBioNTech']   Twitter for iPhone   \n",
       "\n",
       "   retweets  favorites  is_retweet  \n",
       "0         0          0       False  \n",
       "1         1          1       False  \n",
       "2         0          0       False  \n",
       "3       446       2129       False  \n",
       "4         0          0       False  "
      ]
     },
     "execution_count": 11,
     "metadata": {},
     "output_type": "execute_result"
    }
   ],
   "source": [
    "df= pd.read_csv('vaccination_all_tweets.csv')\n",
    "df.head()"
   ]
  },
  {
   "cell_type": "markdown",
   "metadata": {},
   "source": [
    "# EDA"
   ]
  },
  {
   "cell_type": "code",
   "execution_count": 12,
   "metadata": {},
   "outputs": [
    {
     "name": "stdout",
     "output_type": "stream",
     "text": [
      "<class 'pandas.core.frame.DataFrame'>\n",
      "RangeIndex: 228207 entries, 0 to 228206\n",
      "Data columns (total 16 columns):\n",
      " #   Column            Non-Null Count   Dtype  \n",
      "---  ------            --------------   -----  \n",
      " 0   id                228207 non-null  float64\n",
      " 1   user_name         228205 non-null  object \n",
      " 2   user_location     161296 non-null  object \n",
      " 3   user_description  211189 non-null  object \n",
      " 4   user_created      228207 non-null  object \n",
      " 5   user_followers    228207 non-null  int64  \n",
      " 6   user_friends      228207 non-null  int64  \n",
      " 7   user_favourites   228207 non-null  int64  \n",
      " 8   user_verified     228207 non-null  bool   \n",
      " 9   date              228207 non-null  object \n",
      " 10  text              228207 non-null  object \n",
      " 11  hashtags          178504 non-null  object \n",
      " 12  source            228088 non-null  object \n",
      " 13  retweets          228207 non-null  int64  \n",
      " 14  favorites         228207 non-null  int64  \n",
      " 15  is_retweet        228207 non-null  bool   \n",
      "dtypes: bool(2), float64(1), int64(5), object(8)\n",
      "memory usage: 24.8+ MB\n"
     ]
    }
   ],
   "source": [
    "df['date'] = pd.to_datetime(df['date']).dt.date\n",
    "df.info()"
   ]
  },
  {
   "cell_type": "code",
   "execution_count": 13,
   "metadata": {},
   "outputs": [
    {
     "data": {
      "text/plain": [
       "id                      0\n",
       "user_name               2\n",
       "user_location       66911\n",
       "user_description    17018\n",
       "user_created            0\n",
       "user_followers          0\n",
       "user_friends            0\n",
       "user_favourites         0\n",
       "user_verified           0\n",
       "date                    0\n",
       "text                    0\n",
       "hashtags            49703\n",
       "source                119\n",
       "retweets                0\n",
       "favorites               0\n",
       "is_retweet              0\n",
       "dtype: int64"
      ]
     },
     "execution_count": 13,
     "metadata": {},
     "output_type": "execute_result"
    }
   ],
   "source": [
    "df.isnull().sum()"
   ]
  },
  {
   "cell_type": "code",
   "execution_count": 14,
   "metadata": {},
   "outputs": [
    {
     "name": "stdout",
     "output_type": "stream",
     "text": [
      "<class 'pandas.core.frame.DataFrame'>\n",
      "RangeIndex: 228207 entries, 0 to 228206\n",
      "Data columns (total 16 columns):\n",
      " #   Column            Non-Null Count   Dtype  \n",
      "---  ------            --------------   -----  \n",
      " 0   id                228207 non-null  float64\n",
      " 1   user_name         228205 non-null  object \n",
      " 2   user_location     161296 non-null  object \n",
      " 3   user_description  211189 non-null  object \n",
      " 4   user_created      228207 non-null  object \n",
      " 5   user_followers    228207 non-null  int64  \n",
      " 6   user_friends      228207 non-null  int64  \n",
      " 7   user_favourites   228207 non-null  int64  \n",
      " 8   user_verified     228207 non-null  bool   \n",
      " 9   date              228207 non-null  object \n",
      " 10  text              228207 non-null  object \n",
      " 11  hashtags          228207 non-null  object \n",
      " 12  source            228088 non-null  object \n",
      " 13  retweets          228207 non-null  int64  \n",
      " 14  favorites         228207 non-null  int64  \n",
      " 15  is_retweet        228207 non-null  bool   \n",
      "dtypes: bool(2), float64(1), int64(5), object(8)\n",
      "memory usage: 24.8+ MB\n"
     ]
    }
   ],
   "source": [
    "# fill null with 'Notags'\n",
    "df['hashtags'] = df['hashtags'].fillna('Notags')\n",
    "# cleaning and adaptive for analysis\n",
    "df['hashtags'] = [re.sub(\"[(\\[\\')|(\\]\\')|\\s]\", '', tags) for tags in df['hashtags']]\n",
    "df.info()"
   ]
  },
  {
   "cell_type": "code",
   "execution_count": 15,
   "metadata": {},
   "outputs": [
    {
     "data": {
      "text/plain": [
       "(228207, 16)"
      ]
     },
     "execution_count": 15,
     "metadata": {},
     "output_type": "execute_result"
    }
   ],
   "source": [
    "df.shape\n"
   ]
  },
  {
   "cell_type": "code",
   "execution_count": 16,
   "metadata": {},
   "outputs": [
    {
     "data": {
      "text/html": [
       "<div>\n",
       "<style scoped>\n",
       "    .dataframe tbody tr th:only-of-type {\n",
       "        vertical-align: middle;\n",
       "    }\n",
       "\n",
       "    .dataframe tbody tr th {\n",
       "        vertical-align: top;\n",
       "    }\n",
       "\n",
       "    .dataframe thead th {\n",
       "        text-align: right;\n",
       "    }\n",
       "</style>\n",
       "<table border=\"1\" class=\"dataframe\">\n",
       "  <thead>\n",
       "    <tr style=\"text-align: right;\">\n",
       "      <th></th>\n",
       "      <th>id</th>\n",
       "      <th>user_followers</th>\n",
       "      <th>user_friends</th>\n",
       "      <th>user_favourites</th>\n",
       "      <th>retweets</th>\n",
       "      <th>favorites</th>\n",
       "    </tr>\n",
       "  </thead>\n",
       "  <tbody>\n",
       "    <tr>\n",
       "      <th>count</th>\n",
       "      <td>2.282070e+05</td>\n",
       "      <td>2.282070e+05</td>\n",
       "      <td>228207.000000</td>\n",
       "      <td>2.282070e+05</td>\n",
       "      <td>228207.000000</td>\n",
       "      <td>228207.000000</td>\n",
       "    </tr>\n",
       "    <tr>\n",
       "      <th>mean</th>\n",
       "      <td>1.407541e+18</td>\n",
       "      <td>9.605393e+04</td>\n",
       "      <td>986.736204</td>\n",
       "      <td>1.210417e+04</td>\n",
       "      <td>2.489284</td>\n",
       "      <td>10.819020</td>\n",
       "    </tr>\n",
       "    <tr>\n",
       "      <th>std</th>\n",
       "      <td>2.908485e+16</td>\n",
       "      <td>8.389053e+05</td>\n",
       "      <td>5293.500468</td>\n",
       "      <td>3.908233e+04</td>\n",
       "      <td>51.079821</td>\n",
       "      <td>199.527693</td>\n",
       "    </tr>\n",
       "    <tr>\n",
       "      <th>min</th>\n",
       "      <td>1.337730e+18</td>\n",
       "      <td>0.000000e+00</td>\n",
       "      <td>0.000000</td>\n",
       "      <td>0.000000e+00</td>\n",
       "      <td>0.000000</td>\n",
       "      <td>0.000000</td>\n",
       "    </tr>\n",
       "    <tr>\n",
       "      <th>25%</th>\n",
       "      <td>1.381940e+18</td>\n",
       "      <td>5.500000e+01</td>\n",
       "      <td>27.000000</td>\n",
       "      <td>5.700000e+01</td>\n",
       "      <td>0.000000</td>\n",
       "      <td>0.000000</td>\n",
       "    </tr>\n",
       "    <tr>\n",
       "      <th>50%</th>\n",
       "      <td>1.408130e+18</td>\n",
       "      <td>3.280000e+02</td>\n",
       "      <td>229.000000</td>\n",
       "      <td>9.960000e+02</td>\n",
       "      <td>0.000000</td>\n",
       "      <td>0.000000</td>\n",
       "    </tr>\n",
       "    <tr>\n",
       "      <th>75%</th>\n",
       "      <td>1.428690e+18</td>\n",
       "      <td>1.521000e+03</td>\n",
       "      <td>794.000000</td>\n",
       "      <td>7.300000e+03</td>\n",
       "      <td>1.000000</td>\n",
       "      <td>2.000000</td>\n",
       "    </tr>\n",
       "    <tr>\n",
       "      <th>max</th>\n",
       "      <td>1.463250e+18</td>\n",
       "      <td>1.635305e+07</td>\n",
       "      <td>582461.000000</td>\n",
       "      <td>1.299600e+06</td>\n",
       "      <td>12294.000000</td>\n",
       "      <td>54017.000000</td>\n",
       "    </tr>\n",
       "  </tbody>\n",
       "</table>\n",
       "</div>"
      ],
      "text/plain": [
       "                 id  user_followers   user_friends  user_favourites  \\\n",
       "count  2.282070e+05    2.282070e+05  228207.000000     2.282070e+05   \n",
       "mean   1.407541e+18    9.605393e+04     986.736204     1.210417e+04   \n",
       "std    2.908485e+16    8.389053e+05    5293.500468     3.908233e+04   \n",
       "min    1.337730e+18    0.000000e+00       0.000000     0.000000e+00   \n",
       "25%    1.381940e+18    5.500000e+01      27.000000     5.700000e+01   \n",
       "50%    1.408130e+18    3.280000e+02     229.000000     9.960000e+02   \n",
       "75%    1.428690e+18    1.521000e+03     794.000000     7.300000e+03   \n",
       "max    1.463250e+18    1.635305e+07  582461.000000     1.299600e+06   \n",
       "\n",
       "            retweets      favorites  \n",
       "count  228207.000000  228207.000000  \n",
       "mean        2.489284      10.819020  \n",
       "std        51.079821     199.527693  \n",
       "min         0.000000       0.000000  \n",
       "25%         0.000000       0.000000  \n",
       "50%         0.000000       0.000000  \n",
       "75%         1.000000       2.000000  \n",
       "max     12294.000000   54017.000000  "
      ]
     },
     "execution_count": 16,
     "metadata": {},
     "output_type": "execute_result"
    }
   ],
   "source": [
    "df.describe()"
   ]
  },
  {
   "cell_type": "code",
   "execution_count": 17,
   "metadata": {},
   "outputs": [
    {
     "data": {
      "text/plain": [
       "0         same folks said daikon paste could treat a cyt...\n",
       "1         while the world has been on the wrong side of ...\n",
       "2         #coronavirus #sputnikv #astrazeneca #pfizerbio...\n",
       "3         facts are immutable, senator, even when you're...\n",
       "4         explain to me again why we need a vaccine @bor...\n",
       "                                ...                        \n",
       "228202    45+ #urban #bengaluru #covidvaccine availabili...\n",
       "228203    18-44 #bbmp #bengaluru #covidvaccine availabil...\n",
       "228204    18-44 #urban #bengaluru #covidvaccine availabi...\n",
       "228205    they promote their vaccines leaving out the st...\n",
       "228206    45+ #urban #bengaluru #covidvaccine availabili...\n",
       "Name: text, Length: 228207, dtype: object"
      ]
     },
     "execution_count": 17,
     "metadata": {},
     "output_type": "execute_result"
    }
   ],
   "source": [
    "df[\"text\"] = df[\"text\"].str.lower()\n",
    "df[\"text\"]"
   ]
  },
  {
   "cell_type": "code",
   "execution_count": 18,
   "metadata": {},
   "outputs": [
    {
     "data": {
      "text/plain": [
       "0         same folks said daikon paste could treat a cyt...\n",
       "1         while the world has been on the wrong side of ...\n",
       "2         #coronavirus #sputnikv #astrazeneca #pfizerbio...\n",
       "3         facts are immutable, senator, even when you're...\n",
       "4         explain to me again why we need a vaccine @bor...\n",
       "                                ...                        \n",
       "228202    45+ #urban #bengaluru #covidvaccine availabili...\n",
       "228203    18-44 #bbmp #bengaluru #covidvaccine availabil...\n",
       "228204    18-44 #urban #bengaluru #covidvaccine availabi...\n",
       "228205    they promote their vaccines leaving out the st...\n",
       "228206    45+ #urban #bengaluru #covidvaccine availabili...\n",
       "Name: text, Length: 228207, dtype: object"
      ]
     },
     "execution_count": 18,
     "metadata": {},
     "output_type": "execute_result"
    }
   ],
   "source": [
    "# removing urls\n",
    "df[\"text\"] = df[\"text\"].apply(lambda x:re.sub(r\"http\\S+\", \"\", x))\n",
    "df[\"text\"]"
   ]
  },
  {
   "cell_type": "code",
   "execution_count": 19,
   "metadata": {},
   "outputs": [
    {
     "data": {
      "text/plain": [
       "0         same folks said daikon paste could treatcytoki...\n",
       "1         while the world has been on the wrong side of ...\n",
       "2         #coronavirus #sputnikv #astrazeneca #pfizerbio...\n",
       "3         facts are immutable, senator, even when you're...\n",
       "4         explain to me again why we needvaccine @borisj...\n",
       "                                ...                        \n",
       "228202    45+ #urban #bengaluru #covidvaccine availabili...\n",
       "228203    18-44 #bbmp #bengaluru #covidvaccine availabil...\n",
       "228204    18-44 #urban #bengaluru #covidvaccine availabi...\n",
       "228205    they promote their vaccines leaving out the st...\n",
       "228206    45+ #urban #bengaluru #covidvaccine availabili...\n",
       "Name: text, Length: 228207, dtype: object"
      ]
     },
     "execution_count": 19,
     "metadata": {},
     "output_type": "execute_result"
    }
   ],
   "source": [
    "df[\"text\"] = df[\"text\"].apply(lambda x:re.sub(r\"\\s+[a-zA-Z]\\s+\", '', x))\n",
    "df[\"text\"] = df[\"text\"].apply(lambda x:re.sub(r\"\\s+\", \" \", x))\n",
    "df[\"text\"]"
   ]
  },
  {
   "cell_type": "code",
   "execution_count": 20,
   "metadata": {},
   "outputs": [],
   "source": [
    "ps = PorterStemmer()"
   ]
  },
  {
   "cell_type": "code",
   "execution_count": 21,
   "metadata": {},
   "outputs": [],
   "source": [
    "df[\"text\"] = [ps.stem(word) for word in df[\"text\"] if not  word in set(stopwords.words('english'))] # use set for larger text"
   ]
  },
  {
   "cell_type": "code",
   "execution_count": 22,
   "metadata": {},
   "outputs": [
    {
     "data": {
      "text/plain": [
       "0         same folks said daikon paste could treatcytoki...\n",
       "1         while the world has been on the wrong side of ...\n",
       "2         #coronavirus #sputnikv #astrazeneca #pfizerbio...\n",
       "3         facts are immutable, senator, even when you're...\n",
       "4         explain to me again why we needvaccine @borisj...\n",
       "                                ...                        \n",
       "228202    45+ #urban #bengaluru #covidvaccine availabili...\n",
       "228203    18-44 #bbmp #bengaluru #covidvaccine availabil...\n",
       "228204    18-44 #urban #bengaluru #covidvaccine availabi...\n",
       "228205    they promote their vaccines leaving out the st...\n",
       "228206    45+ #urban #bengaluru #covidvaccine availabili...\n",
       "Name: text, Length: 228207, dtype: object"
      ]
     },
     "execution_count": 22,
     "metadata": {},
     "output_type": "execute_result"
    }
   ],
   "source": [
    "df[\"text\"]"
   ]
  },
  {
   "cell_type": "code",
   "execution_count": 23,
   "metadata": {},
   "outputs": [
    {
     "data": {
      "text/plain": [
       "0         folks said daikon paste could treatcytokine st...\n",
       "1         world wrong side history year, hopefully, bigg...\n",
       "2         #coronavirus #sputnikv #astrazeneca #pfizerbio...\n",
       "3         facts immutable, senator, even ethically sturd...\n",
       "4         explain needvaccine @borisjohnson @matthancock...\n",
       "                                ...                        \n",
       "228202    45+ #urban #bengaluru #covidvaccine availabili...\n",
       "228203    18-44 #bbmp #bengaluru #covidvaccine availabil...\n",
       "228204    18-44 #urban #bengaluru #covidvaccine availabi...\n",
       "228205    promote vaccines leaving stronger @russia vacc...\n",
       "228206    45+ #urban #bengaluru #covidvaccine availabili...\n",
       "Name: text, Length: 228207, dtype: object"
      ]
     },
     "execution_count": 23,
     "metadata": {},
     "output_type": "execute_result"
    }
   ],
   "source": [
    "# Stopword Removal\n",
    "\", \".join(stopwords.words('english'))\n",
    "STOPWORDS = set(stopwords.words('english'))\n",
    "def remove_stopwords(text):\n",
    "    return \" \".join([word for word in str(text).split() if word not in STOPWORDS])\n",
    "\n",
    "df[\"text\"] = df[\"text\"].apply(lambda text: remove_stopwords(text))\n",
    "df[\"text\"]"
   ]
  },
  {
   "cell_type": "code",
   "execution_count": 24,
   "metadata": {},
   "outputs": [],
   "source": [
    "textt = \" \".join(review for review in df.text)"
   ]
  },
  {
   "cell_type": "code",
   "execution_count": 25,
   "metadata": {},
   "outputs": [],
   "source": [
    "def get_subjectivity(text):\n",
    "    return TextBlob(text).sentiment.subjectivity\n",
    "\n",
    "def get_polarity(text):\n",
    "    return TextBlob(text).sentiment.polarity\n",
    "\n",
    "def get_sentiment(score):\n",
    "    if score > 0:\n",
    "        return 'Positive'\n",
    "    elif score == 0:\n",
    "        return 'Neutral'\n",
    "    else:\n",
    "        return 'Negative'"
   ]
  },
  {
   "cell_type": "code",
   "execution_count": 26,
   "metadata": {},
   "outputs": [
    {
     "data": {
      "text/html": [
       "<div>\n",
       "<style scoped>\n",
       "    .dataframe tbody tr th:only-of-type {\n",
       "        vertical-align: middle;\n",
       "    }\n",
       "\n",
       "    .dataframe tbody tr th {\n",
       "        vertical-align: top;\n",
       "    }\n",
       "\n",
       "    .dataframe thead th {\n",
       "        text-align: right;\n",
       "    }\n",
       "</style>\n",
       "<table border=\"1\" class=\"dataframe\">\n",
       "  <thead>\n",
       "    <tr style=\"text-align: right;\">\n",
       "      <th></th>\n",
       "      <th>id</th>\n",
       "      <th>user_name</th>\n",
       "      <th>user_location</th>\n",
       "      <th>user_description</th>\n",
       "      <th>user_created</th>\n",
       "      <th>user_followers</th>\n",
       "      <th>user_friends</th>\n",
       "      <th>user_favourites</th>\n",
       "      <th>user_verified</th>\n",
       "      <th>date</th>\n",
       "      <th>text</th>\n",
       "      <th>hashtags</th>\n",
       "      <th>source</th>\n",
       "      <th>retweets</th>\n",
       "      <th>favorites</th>\n",
       "      <th>is_retweet</th>\n",
       "      <th>subjectivity</th>\n",
       "      <th>polarity</th>\n",
       "      <th>sentiment</th>\n",
       "    </tr>\n",
       "  </thead>\n",
       "  <tbody>\n",
       "    <tr>\n",
       "      <th>0</th>\n",
       "      <td>1.340540e+18</td>\n",
       "      <td>Rachel Roh</td>\n",
       "      <td>La Crescenta-Montrose, CA</td>\n",
       "      <td>Aggregator of Asian American news; scanning di...</td>\n",
       "      <td>08-04-2009 17:52</td>\n",
       "      <td>405</td>\n",
       "      <td>1692</td>\n",
       "      <td>3247</td>\n",
       "      <td>False</td>\n",
       "      <td>2020-12-20</td>\n",
       "      <td>folks said daikon paste could treatcytokine st...</td>\n",
       "      <td>PfizerBioNTech</td>\n",
       "      <td>Twitter for Android</td>\n",
       "      <td>0</td>\n",
       "      <td>0</td>\n",
       "      <td>False</td>\n",
       "      <td>0.000000</td>\n",
       "      <td>0.0</td>\n",
       "      <td>Neutral</td>\n",
       "    </tr>\n",
       "    <tr>\n",
       "      <th>1</th>\n",
       "      <td>1.338160e+18</td>\n",
       "      <td>Albert Fong</td>\n",
       "      <td>San Francisco, CA</td>\n",
       "      <td>Marketing dude, tech geek, heavy metal &amp; '80s ...</td>\n",
       "      <td>21-09-2009 15:27</td>\n",
       "      <td>834</td>\n",
       "      <td>666</td>\n",
       "      <td>178</td>\n",
       "      <td>False</td>\n",
       "      <td>2020-12-13</td>\n",
       "      <td>world wrong side history year, hopefully, bigg...</td>\n",
       "      <td>Notags</td>\n",
       "      <td>Twitter Web App</td>\n",
       "      <td>1</td>\n",
       "      <td>1</td>\n",
       "      <td>False</td>\n",
       "      <td>0.900000</td>\n",
       "      <td>-0.5</td>\n",
       "      <td>Negative</td>\n",
       "    </tr>\n",
       "    <tr>\n",
       "      <th>2</th>\n",
       "      <td>1.337860e+18</td>\n",
       "      <td>eli🇱🇹🇪🇺👌</td>\n",
       "      <td>Your Bed</td>\n",
       "      <td>heil, hydra 🖐☺</td>\n",
       "      <td>25-06-2020 23:30</td>\n",
       "      <td>10</td>\n",
       "      <td>88</td>\n",
       "      <td>155</td>\n",
       "      <td>False</td>\n",
       "      <td>2020-12-12</td>\n",
       "      <td>#coronavirus #sputnikv #astrazeneca #pfizerbio...</td>\n",
       "      <td>coronavirus,SputnikV,AstraZeneca,PfizerBioNTec...</td>\n",
       "      <td>Twitter for Android</td>\n",
       "      <td>0</td>\n",
       "      <td>0</td>\n",
       "      <td>False</td>\n",
       "      <td>0.033333</td>\n",
       "      <td>0.0</td>\n",
       "      <td>Neutral</td>\n",
       "    </tr>\n",
       "    <tr>\n",
       "      <th>3</th>\n",
       "      <td>1.337860e+18</td>\n",
       "      <td>Charles Adler</td>\n",
       "      <td>Vancouver, BC - Canada</td>\n",
       "      <td>Hosting \"CharlesAdlerTonight\" Global News Radi...</td>\n",
       "      <td>10-09-2008 11:28</td>\n",
       "      <td>49165</td>\n",
       "      <td>3933</td>\n",
       "      <td>21853</td>\n",
       "      <td>True</td>\n",
       "      <td>2020-12-12</td>\n",
       "      <td>facts immutable, senator, even ethically sturd...</td>\n",
       "      <td>Notags</td>\n",
       "      <td>Twitter Web App</td>\n",
       "      <td>446</td>\n",
       "      <td>2129</td>\n",
       "      <td>False</td>\n",
       "      <td>0.550000</td>\n",
       "      <td>0.1</td>\n",
       "      <td>Positive</td>\n",
       "    </tr>\n",
       "    <tr>\n",
       "      <th>4</th>\n",
       "      <td>1.337850e+18</td>\n",
       "      <td>Citizen News Channel</td>\n",
       "      <td>NaN</td>\n",
       "      <td>Citizen News Channel bringing you an alternati...</td>\n",
       "      <td>23-04-2020 17:58</td>\n",
       "      <td>152</td>\n",
       "      <td>580</td>\n",
       "      <td>1473</td>\n",
       "      <td>False</td>\n",
       "      <td>2020-12-12</td>\n",
       "      <td>explain needvaccine @borisjohnson @matthancock...</td>\n",
       "      <td>whereareallthesickpeople,PfizerBioNTech</td>\n",
       "      <td>Twitter for iPhone</td>\n",
       "      <td>0</td>\n",
       "      <td>0</td>\n",
       "      <td>False</td>\n",
       "      <td>0.000000</td>\n",
       "      <td>0.0</td>\n",
       "      <td>Neutral</td>\n",
       "    </tr>\n",
       "  </tbody>\n",
       "</table>\n",
       "</div>"
      ],
      "text/plain": [
       "             id             user_name              user_location  \\\n",
       "0  1.340540e+18            Rachel Roh  La Crescenta-Montrose, CA   \n",
       "1  1.338160e+18           Albert Fong          San Francisco, CA   \n",
       "2  1.337860e+18              eli🇱🇹🇪🇺👌                   Your Bed   \n",
       "3  1.337860e+18         Charles Adler     Vancouver, BC - Canada   \n",
       "4  1.337850e+18  Citizen News Channel                        NaN   \n",
       "\n",
       "                                    user_description      user_created  \\\n",
       "0  Aggregator of Asian American news; scanning di...  08-04-2009 17:52   \n",
       "1  Marketing dude, tech geek, heavy metal & '80s ...  21-09-2009 15:27   \n",
       "2                                     heil, hydra 🖐☺  25-06-2020 23:30   \n",
       "3  Hosting \"CharlesAdlerTonight\" Global News Radi...  10-09-2008 11:28   \n",
       "4  Citizen News Channel bringing you an alternati...  23-04-2020 17:58   \n",
       "\n",
       "   user_followers  user_friends  user_favourites  user_verified        date  \\\n",
       "0             405          1692             3247          False  2020-12-20   \n",
       "1             834           666              178          False  2020-12-13   \n",
       "2              10            88              155          False  2020-12-12   \n",
       "3           49165          3933            21853           True  2020-12-12   \n",
       "4             152           580             1473          False  2020-12-12   \n",
       "\n",
       "                                                text  \\\n",
       "0  folks said daikon paste could treatcytokine st...   \n",
       "1  world wrong side history year, hopefully, bigg...   \n",
       "2  #coronavirus #sputnikv #astrazeneca #pfizerbio...   \n",
       "3  facts immutable, senator, even ethically sturd...   \n",
       "4  explain needvaccine @borisjohnson @matthancock...   \n",
       "\n",
       "                                            hashtags               source  \\\n",
       "0                                     PfizerBioNTech  Twitter for Android   \n",
       "1                                             Notags      Twitter Web App   \n",
       "2  coronavirus,SputnikV,AstraZeneca,PfizerBioNTec...  Twitter for Android   \n",
       "3                                             Notags      Twitter Web App   \n",
       "4            whereareallthesickpeople,PfizerBioNTech   Twitter for iPhone   \n",
       "\n",
       "   retweets  favorites  is_retweet  subjectivity  polarity sentiment  \n",
       "0         0          0       False      0.000000       0.0   Neutral  \n",
       "1         1          1       False      0.900000      -0.5  Negative  \n",
       "2         0          0       False      0.033333       0.0   Neutral  \n",
       "3       446       2129       False      0.550000       0.1  Positive  \n",
       "4         0          0       False      0.000000       0.0   Neutral  "
      ]
     },
     "execution_count": 26,
     "metadata": {},
     "output_type": "execute_result"
    }
   ],
   "source": [
    "df['subjectivity'] = df['text'].apply(get_subjectivity)\n",
    "df['polarity'] = df['text'].apply(get_polarity)\n",
    "df['sentiment'] = df['polarity'].apply(get_sentiment)\n",
    "df.head()"
   ]
  },
  {
   "cell_type": "code",
   "execution_count": 27,
   "metadata": {},
   "outputs": [
    {
     "data": {
      "text/plain": [
       "[('#covaxin', 53346),\n",
       " ('#moderna', 38190),\n",
       " ('vaccine', 31750),\n",
       " ('dose', 29122),\n",
       " ('-', 28021),\n",
       " ('slots', 23770),\n",
       " ('#covid19', 16801),\n",
       " ('covaxin', 16152),\n",
       " ('#bbmp', 14184),\n",
       " ('18', 13557)]"
      ]
     },
     "execution_count": 27,
     "metadata": {},
     "output_type": "execute_result"
    }
   ],
   "source": [
    "# Commonly used words\n",
    "from collections import Counter\n",
    "cnt = Counter()\n",
    "for text in df[\"text\"].values:\n",
    "    for word in text.split():\n",
    "        cnt[word] += 1\n",
    "        \n",
    "cnt.most_common(10)"
   ]
  },
  {
   "cell_type": "code",
   "execution_count": 28,
   "metadata": {},
   "outputs": [],
   "source": [
    "sentiment_counts = df[\"sentiment\"].value_counts()"
   ]
  },
  {
   "cell_type": "code",
   "execution_count": 29,
   "metadata": {},
   "outputs": [
    {
     "data": {
      "text/plain": [
       "Neutral     134537\n",
       "Positive     72638\n",
       "Negative     21032\n",
       "Name: sentiment, dtype: int64"
      ]
     },
     "execution_count": 29,
     "metadata": {},
     "output_type": "execute_result"
    }
   ],
   "source": [
    "sentiment_counts"
   ]
  },
  {
   "cell_type": "code",
   "execution_count": 30,
   "metadata": {},
   "outputs": [
    {
     "data": {
      "image/png": "[encoded data removed]",
      "text/plain": [
       "<Figure size 720x432 with 1 Axes>"
      ]
     },
     "metadata": {},
     "output_type": "display_data"
    }
   ],
   "source": [
    "# Create a pie chart by airline %\n",
    "labels = ['Neutral', \"Positive\", \"Negative\"]\n",
    "plt.subplots(figsize=[10,6])\n",
    "colors = sns.color_palette('pastel')[2:5]\n",
    "plt.pie(sentiment_counts, labels= labels, colors= colors,autopct='%.0f%%', explode=[0.05]*3)\n",
    "plt.show()"
   ]
  },
  {
   "cell_type": "markdown",
   "metadata": {},
   "source": [
    "The above pie chart illustrates the sentiment of users in three diffrent forms. The Neutral emotion percentage is higher that is 59% whereas there are very less users with negeative sentiments with 9% followed by positive having 32%.\n",
    "\n"
   ]
  },
  {
   "cell_type": "code",
   "execution_count": 31,
   "metadata": {},
   "outputs": [
    {
     "data": {
      "text/plain": [
       "array([False,  True])"
      ]
     },
     "execution_count": 31,
     "metadata": {},
     "output_type": "execute_result"
    }
   ],
   "source": [
    "df['user_verified'].unique()"
   ]
  },
  {
   "cell_type": "code",
   "execution_count": 32,
   "metadata": {},
   "outputs": [
    {
     "data": {
      "text/html": [
       "<div>\n",
       "<style scoped>\n",
       "    .dataframe tbody tr th:only-of-type {\n",
       "        vertical-align: middle;\n",
       "    }\n",
       "\n",
       "    .dataframe tbody tr th {\n",
       "        vertical-align: top;\n",
       "    }\n",
       "\n",
       "    .dataframe thead th {\n",
       "        text-align: right;\n",
       "    }\n",
       "</style>\n",
       "<table border=\"1\" class=\"dataframe\">\n",
       "  <thead>\n",
       "    <tr style=\"text-align: right;\">\n",
       "      <th></th>\n",
       "      <th>Neutral Count</th>\n",
       "      <th>Positive Count</th>\n",
       "      <th>Negative Count</th>\n",
       "    </tr>\n",
       "  </thead>\n",
       "  <tbody>\n",
       "    <tr>\n",
       "      <th>False</th>\n",
       "      <td>123224</td>\n",
       "      <td>66415</td>\n",
       "      <td>19366</td>\n",
       "    </tr>\n",
       "    <tr>\n",
       "      <th>True</th>\n",
       "      <td>11313</td>\n",
       "      <td>6223</td>\n",
       "      <td>1666</td>\n",
       "    </tr>\n",
       "  </tbody>\n",
       "</table>\n",
       "</div>"
      ],
      "text/plain": [
       "       Neutral Count  Positive Count  Negative Count\n",
       "False         123224           66415           19366\n",
       "True           11313            6223            1666"
      ]
     },
     "execution_count": 32,
     "metadata": {},
     "output_type": "execute_result"
    }
   ],
   "source": [
    "# Create a bar chart by airline and airline sentiment\n",
    "listOfAirlines = df['user_verified'].unique()\n",
    "neutralCount = []\n",
    "positiveCount = []\n",
    "negativeCount = []\n",
    "totalCount = []\n",
    "\n",
    "for airline in listOfAirlines:\n",
    "    neuC = df.query(\"user_verified == @airline and sentiment == 'Neutral'\")['sentiment'].count()\n",
    "    posC = df.query(\"user_verified == @airline and sentiment == 'Positive'\")['sentiment'].count()\n",
    "    negC = df.query(\"user_verified == @airline and sentiment == 'Negative'\")['sentiment'].count()\n",
    "    tot = neuC + posC + negC\n",
    "    neutralCount.append(neuC)\n",
    "    positiveCount.append(posC)\n",
    "    negativeCount.append(negC)\n",
    "    totalCount.append(tot)\n",
    "\n",
    "df2 = pd.DataFrame(index=listOfAirlines);\n",
    "df2['Neutral Count'] = neutralCount\n",
    "df2['Positive Count'] = positiveCount\n",
    "df2['Negative Count'] = negativeCount\n",
    "df2"
   ]
  },
  {
   "cell_type": "code",
   "execution_count": 33,
   "metadata": {},
   "outputs": [
    {
     "data": {
      "image/png": "[encoded data removed]",
      "text/plain": [
       "<Figure size 1080x720 with 1 Axes>"
      ]
     },
     "metadata": {
      "needs_background": "light"
     },
     "output_type": "display_data"
    }
   ],
   "source": [
    "plt2 = df2.plot.bar(rot=0, figsize=(15,10))\n",
    "\n",
    "# Add title and axis names\n",
    "plt.xlabel('User verified')\n",
    "plt.ylabel('Counts')\n",
    " \n",
    "# Show graphic\n",
    "plt.show()"
   ]
  },
  {
   "cell_type": "markdown",
   "metadata": {},
   "source": [
    "The above bar chart describes that users verified with neutral count have hgher number of false that is nearly 120000 while with the same sentiment the number of true verified users are less than 20000. Moreover, the user having positive sentiment have resulted false nearly upto 65000 followed by true verification with having less than 20000. While users with negeative sentiment has been verified below 20000 on the both side."
   ]
  },
  {
   "cell_type": "code",
   "execution_count": 34,
   "metadata": {},
   "outputs": [
    {
     "data": {
      "image/png": "[encoded data removed]",
      "text/plain": [
       "<Figure size 3840x5120 with 2 Axes>"
      ]
     },
     "metadata": {},
     "output_type": "display_data"
    }
   ],
   "source": [
    "# Distribution graphs (histogram/bar graph) of column data\n",
    "\n",
    "nunique = df.nunique()\n",
    "df1 = df[[col for col in df if nunique[col] > 1 and nunique[col] < 150]] # For displaying purposes, pick columns that have between 1 and 50 unique values\n",
    "nRow, nCol = df.shape\n",
    "columnNames = list(df)\n",
    "nGraphRow = (nCol + 8 - 1) / 8\n",
    "plt.figure(num = None, figsize = (6 * 8, 8 * 8), dpi = 80, facecolor = 'w', edgecolor = 'k')\n",
    "for i in range(min(nCol, 2)):\n",
    "    plt.subplot(8, 8, i + 1)\n",
    "    columnDf = df1.iloc[:, i]\n",
    "    if (not np.issubdtype(type(columnDf.iloc[0]), np.number)):\n",
    "        valueCounts = columnDf.value_counts()\n",
    "        valueCounts.plot.bar()\n",
    "    else:\n",
    "        columnDf.hist()\n",
    "    plt.ylabel('counts')\n",
    "    plt.xticks(rotation = 90)\n",
    "    plt.title(f'{columnNames[i]} (column {i})')\n",
    "plt.tight_layout(pad = 1.0, w_pad = 1.0, h_pad = 1.0)\n",
    "plt.show()"
   ]
  },
  {
   "cell_type": "code",
   "execution_count": 35,
   "metadata": {},
   "outputs": [
    {
     "data": {
      "image/png": "[encoded data removed]",
      "text/plain": [
       "<Figure size 432x288 with 1 Axes>"
      ]
     },
     "metadata": {
      "needs_background": "light"
     },
     "output_type": "display_data"
    }
   ],
   "source": [
    "stopwords = set(stopwords.words('english'))\n",
    "wordcloud = WordCloud(stopwords=stopwords, background_color=\"white\").generate(textt)\n",
    "plt.imshow(wordcloud, interpolation='bilinear')\n",
    "plt.axis(\"off\")\n",
    "plt.savefig('wordcloud11.png')\n",
    "plt.show()"
   ]
  },
  {
   "cell_type": "code",
   "execution_count": 36,
   "metadata": {},
   "outputs": [
    {
     "name": "stdout",
     "output_type": "stream",
     "text": [
      "[[   0    0    0 ...  142  284   58]\n",
      " [   0    0    0 ...   44 2243 2632]\n",
      " [   0    0    0 ...  200   14  128]\n",
      " ...\n",
      " [   0    0    0 ...    4   23  209]\n",
      " [   0    0    0 ...  117    2   17]\n",
      " [   0    0    0 ...   23   41   22]]\n"
     ]
    }
   ],
   "source": [
    "tokenizer = Tokenizer(5000)\n",
    "tokenizer.fit_on_texts(df[\"text\"])\n",
    "sequences = tokenizer.texts_to_sequences(df[\"text\"])\n",
    "tweets = pad_sequences(sequences, maxlen=200)\n",
    "print(tweets)"
   ]
  },
  {
   "cell_type": "code",
   "execution_count": 37,
   "metadata": {},
   "outputs": [],
   "source": [
    "y = pd.get_dummies(df[\"sentiment\"])"
   ]
  },
  {
   "cell_type": "code",
   "execution_count": 38,
   "metadata": {},
   "outputs": [
    {
     "data": {
      "text/plain": [
       "(228207, 3)"
      ]
     },
     "execution_count": 38,
     "metadata": {},
     "output_type": "execute_result"
    }
   ],
   "source": [
    "y.shape"
   ]
  },
  {
   "cell_type": "code",
   "execution_count": 39,
   "metadata": {},
   "outputs": [
    {
     "data": {
      "text/plain": [
       "(228207, 200)"
      ]
     },
     "execution_count": 39,
     "metadata": {},
     "output_type": "execute_result"
    }
   ],
   "source": [
    "X = tweets\n",
    "tweets.shape"
   ]
  },
  {
   "cell_type": "code",
   "execution_count": 40,
   "metadata": {},
   "outputs": [],
   "source": [
    "#Splitting the data\n",
    "X_train, X_test, y_train, y_test = train_test_split(X, y, random_state=0)"
   ]
  },
  {
   "cell_type": "markdown",
   "metadata": {},
   "source": [
    "# LSTM"
   ]
  },
  {
   "cell_type": "code",
   "execution_count": 41,
   "metadata": {},
   "outputs": [],
   "source": [
    "from tensorflow import keras\n",
    "from tensorflow.keras import Sequential\n",
    "from tensorflow.keras import layers\n",
    "from keras import backend as K\n",
    "from keras.callbacks import ModelCheckpoint\n",
    "from sklearn.metrics import confusion_matrix"
   ]
  },
  {
   "cell_type": "code",
   "execution_count": 42,
   "metadata": {},
   "outputs": [
    {
     "name": "stdout",
     "output_type": "stream",
     "text": [
      "WARNING:tensorflow:`period` argument is deprecated. Please use `save_freq` to specify the frequency in number of batches seen.\n",
      "Epoch 1/3\n",
      "5349/5349 [==============================] - ETA: 0s - loss: 0.3292 - accuracy: 0.8932\n",
      "Epoch 00001: val_accuracy improved from -inf to 0.94849, saving model to best_model1.hdf5\n",
      "5349/5349 [==============================] - 1561s 291ms/step - loss: 0.3292 - accuracy: 0.8932 - val_loss: 0.2044 - val_accuracy: 0.9485\n",
      "Epoch 2/3\n",
      "5349/5349 [==============================] - ETA: 0s - loss: 0.2049 - accuracy: 0.9465\n",
      "Epoch 00002: val_accuracy improved from 0.94849 to 0.95159, saving model to best_model1.hdf5\n",
      "5349/5349 [==============================] - 1537s 287ms/step - loss: 0.2049 - accuracy: 0.9465 - val_loss: 0.1894 - val_accuracy: 0.9516\n",
      "Epoch 3/3\n",
      "5349/5349 [==============================] - ETA: 0s - loss: 0.1959 - accuracy: 0.9491\n",
      "Epoch 00003: val_accuracy improved from 0.95159 to 0.95355, saving model to best_model1.hdf5\n",
      "5349/5349 [==============================] - 1587s 297ms/step - loss: 0.1959 - accuracy: 0.9491 - val_loss: 0.1843 - val_accuracy: 0.9536\n"
     ]
    }
   ],
   "source": [
    "model1 = Sequential()\n",
    "model1.add(layers.Embedding(5000, 20))\n",
    "model1.add(layers.LSTM(150,dropout=0.5))\n",
    "model1.add(layers.Dense(3,activation='softmax'))\n",
    "\n",
    "\n",
    "model1.compile(optimizer='rmsprop',loss='categorical_crossentropy', metrics=['accuracy'])\n",
    "#Implementing model checkpoins to save the best metric and do not lose it on training.\n",
    "checkpoint1 = ModelCheckpoint(\"best_model1.hdf5\", monitor='val_accuracy', verbose=1,save_best_only=True, mode='auto', period=1,save_weights_only=False)\n",
    "history = model1.fit(X_train, y_train, epochs=3,validation_data=(X_test, y_test),callbacks=[checkpoint1])"
   ]
  },
  {
   "cell_type": "code",
   "execution_count": 43,
   "metadata": {},
   "outputs": [],
   "source": [
    "best_model = keras.models.load_model(\"best_model1.hdf5\")"
   ]
  },
  {
   "cell_type": "code",
   "execution_count": 44,
   "metadata": {},
   "outputs": [
    {
     "name": "stdout",
     "output_type": "stream",
     "text": [
      "1783/1783 - 153s - loss: 0.1843 - accuracy: 0.9536 - 153s/epoch - 86ms/step\n",
      "Model accuracy:  0.953551173210144\n"
     ]
    }
   ],
   "source": [
    "test_loss, test_acc = best_model.evaluate(X_test, y_test, verbose=2)\n",
    "print('Model accuracy: ',test_acc)"
   ]
  },
  {
   "cell_type": "code",
   "execution_count": 45,
   "metadata": {},
   "outputs": [],
   "source": [
    "y_preds = best_model.predict(X_test)"
   ]
  },
  {
   "cell_type": "code",
   "execution_count": 46,
   "metadata": {},
   "outputs": [
    {
     "data": {
      "text/plain": [
       "array([2, 2, 1, ..., 0, 2, 1], dtype=int64)"
      ]
     },
     "execution_count": 46,
     "metadata": {},
     "output_type": "execute_result"
    }
   ],
   "source": [
    "y_test = y_test.to_numpy()\n",
    "np.argmax(y_test, axis= 1)"
   ]
  },
  {
   "cell_type": "code",
   "execution_count": 47,
   "metadata": {},
   "outputs": [
    {
     "data": {
      "text/plain": [
       "<AxesSubplot:>"
      ]
     },
     "execution_count": 47,
     "metadata": {},
     "output_type": "execute_result"
    },
    {
     "data": {
      "image/png": "[encoded data removed]",
      "text/plain": [
       "<Figure size 1080x1080 with 2 Axes>"
      ]
     },
     "metadata": {
      "needs_background": "light"
     },
     "output_type": "display_data"
    }
   ],
   "source": [
    "cm_matrix = confusion_matrix(np.argmax(y_test, axis= 1), np.around(y_preds, decimals=0).argmax(axis=1))\n",
    "conf_matrix = pd.DataFrame(cm_matrix, index = ['Neutral','Negative','Positive'],columns = ['Neutral','Negative','Positive'])\n",
    "#Normalizing\n",
    "conf_matrix = conf_matrix.astype('float') / conf_matrix.sum(axis=1)[:, np.newaxis]\n",
    "plt.figure(figsize = (15,15))\n",
    "sns.heatmap(conf_matrix, annot=True, annot_kws={\"size\": 15})"
   ]
  },
  {
   "cell_type": "code",
   "execution_count": null,
   "metadata": {},
   "outputs": [],
   "source": []
  }
 ],
 "metadata": {
  "kernelspec": {
   "display_name": "Python 3",
   "language": "python",
   "name": "python3"
  },
  "language_info": {
   "codemirror_mode": {
    "name": "ipython",
    "version": 3
   },
   "file_extension": ".py",
   "mimetype": "text/x-python",
   "name": "python",
   "nbconvert_exporter": "python",
   "pygments_lexer": "ipython3",
   "version": "3.8.5"
  }
 },
 "nbformat": 4,
 "nbformat_minor": 4
}
